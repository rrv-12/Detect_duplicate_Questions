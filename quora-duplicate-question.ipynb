{
 "cells": [
  {
   "cell_type": "code",
   "execution_count": 1,
   "id": "e0cac2c1",
   "metadata": {
    "execution": {
     "iopub.execute_input": "2024-08-17T18:21:24.648922Z",
     "iopub.status.busy": "2024-08-17T18:21:24.648401Z",
     "iopub.status.idle": "2024-08-17T18:21:29.025245Z",
     "shell.execute_reply": "2024-08-17T18:21:29.023838Z"
    },
    "papermill": {
     "duration": 4.39629,
     "end_time": "2024-08-17T18:21:29.028949",
     "exception": false,
     "start_time": "2024-08-17T18:21:24.632659",
     "status": "completed"
    },
    "tags": []
   },
   "outputs": [],
   "source": [
    "import numpy as np\n",
    "import pandas as pd\n",
    "import seaborn as sns\n",
    "import matplotlib.pyplot as plt\n",
    "import nltk\n",
    "import re\n",
    "import string\n",
    "\n",
    "from sklearn.feature_extraction.text import CountVectorizer\n",
    "from sklearn.ensemble import RandomForestClassifier\n",
    "from sklearn.model_selection import train_test_split\n",
    "from sklearn.metrics import accuracy_score\n",
    "from nltk.stem.porter import PorterStemmer\n",
    "from nltk.corpus import stopwords\n",
    "from tqdm import tqdm\n",
    "from xgboost import XGBClassifier"
   ]
  },
  {
   "cell_type": "code",
   "execution_count": 2,
   "id": "c23735c7",
   "metadata": {
    "execution": {
     "iopub.execute_input": "2024-08-17T18:21:29.059923Z",
     "iopub.status.busy": "2024-08-17T18:21:29.059254Z",
     "iopub.status.idle": "2024-08-17T18:21:29.066740Z",
     "shell.execute_reply": "2024-08-17T18:21:29.065168Z"
    },
    "papermill": {
     "duration": 0.025192,
     "end_time": "2024-08-17T18:21:29.069477",
     "exception": false,
     "start_time": "2024-08-17T18:21:29.044285",
     "status": "completed"
    },
    "tags": []
   },
   "outputs": [],
   "source": [
    "tqdm.pandas()"
   ]
  },
  {
   "cell_type": "code",
   "execution_count": 3,
   "id": "60381b9b",
   "metadata": {
    "execution": {
     "iopub.execute_input": "2024-08-17T18:21:29.098933Z",
     "iopub.status.busy": "2024-08-17T18:21:29.098478Z",
     "iopub.status.idle": "2024-08-17T18:21:29.203954Z",
     "shell.execute_reply": "2024-08-17T18:21:29.202484Z"
    },
    "papermill": {
     "duration": 0.125498,
     "end_time": "2024-08-17T18:21:29.209014",
     "exception": false,
     "start_time": "2024-08-17T18:21:29.083516",
     "status": "completed"
    },
    "tags": []
   },
   "outputs": [
    {
     "name": "stdout",
     "output_type": "stream",
     "text": [
      "[nltk_data] Downloading package stopwords to /usr/share/nltk_data...\n",
      "[nltk_data]   Package stopwords is already up-to-date!\n"
     ]
    },
    {
     "data": {
      "text/plain": [
       "True"
      ]
     },
     "execution_count": 3,
     "metadata": {},
     "output_type": "execute_result"
    }
   ],
   "source": [
    "nltk.download('stopwords')"
   ]
  },
  {
   "cell_type": "code",
   "execution_count": 4,
   "id": "78b522b6",
   "metadata": {
    "_cell_guid": "b1076dfc-b9ad-4769-8c92-a6c4dae69d19",
    "_uuid": "8f2839f25d086af736a60e9eeb907d3b93b6e0e5",
    "execution": {
     "iopub.execute_input": "2024-08-17T18:21:29.241880Z",
     "iopub.status.busy": "2024-08-17T18:21:29.241425Z",
     "iopub.status.idle": "2024-08-17T18:21:31.710993Z",
     "shell.execute_reply": "2024-08-17T18:21:31.709595Z"
    },
    "papermill": {
     "duration": 2.488047,
     "end_time": "2024-08-17T18:21:31.714004",
     "exception": false,
     "start_time": "2024-08-17T18:21:29.225957",
     "status": "completed"
    },
    "tags": []
   },
   "outputs": [],
   "source": [
    "df = pd.read_csv('/kaggle/input/quora-question-pairs/train.csv.zip')"
   ]
  },
  {
   "cell_type": "code",
   "execution_count": 5,
   "id": "f54419b3",
   "metadata": {
    "execution": {
     "iopub.execute_input": "2024-08-17T18:21:31.744068Z",
     "iopub.status.busy": "2024-08-17T18:21:31.743559Z",
     "iopub.status.idle": "2024-08-17T18:21:31.892088Z",
     "shell.execute_reply": "2024-08-17T18:21:31.890770Z"
    },
    "papermill": {
     "duration": 0.166691,
     "end_time": "2024-08-17T18:21:31.895230",
     "exception": false,
     "start_time": "2024-08-17T18:21:31.728539",
     "status": "completed"
    },
    "tags": []
   },
   "outputs": [],
   "source": [
    "df = df.dropna()"
   ]
  },
  {
   "cell_type": "code",
   "execution_count": 6,
   "id": "a1361290",
   "metadata": {
    "execution": {
     "iopub.execute_input": "2024-08-17T18:21:31.924749Z",
     "iopub.status.busy": "2024-08-17T18:21:31.924269Z",
     "iopub.status.idle": "2024-08-17T18:21:31.963473Z",
     "shell.execute_reply": "2024-08-17T18:21:31.962033Z"
    },
    "papermill": {
     "duration": 0.057723,
     "end_time": "2024-08-17T18:21:31.966639",
     "exception": false,
     "start_time": "2024-08-17T18:21:31.908916",
     "status": "completed"
    },
    "tags": []
   },
   "outputs": [
    {
     "data": {
      "text/html": [
       "<div>\n",
       "<style scoped>\n",
       "    .dataframe tbody tr th:only-of-type {\n",
       "        vertical-align: middle;\n",
       "    }\n",
       "\n",
       "    .dataframe tbody tr th {\n",
       "        vertical-align: top;\n",
       "    }\n",
       "\n",
       "    .dataframe thead th {\n",
       "        text-align: right;\n",
       "    }\n",
       "</style>\n",
       "<table border=\"1\" class=\"dataframe\">\n",
       "  <thead>\n",
       "    <tr style=\"text-align: right;\">\n",
       "      <th></th>\n",
       "      <th>id</th>\n",
       "      <th>qid1</th>\n",
       "      <th>qid2</th>\n",
       "      <th>question1</th>\n",
       "      <th>question2</th>\n",
       "      <th>is_duplicate</th>\n",
       "    </tr>\n",
       "  </thead>\n",
       "  <tbody>\n",
       "    <tr>\n",
       "      <th>317534</th>\n",
       "      <td>317534</td>\n",
       "      <td>64271</td>\n",
       "      <td>67694</td>\n",
       "      <td>Which is the best laptop under Rs 25000?</td>\n",
       "      <td>Which are the best laptops under INR 25000 in ...</td>\n",
       "      <td>1</td>\n",
       "    </tr>\n",
       "    <tr>\n",
       "      <th>226014</th>\n",
       "      <td>226014</td>\n",
       "      <td>334522</td>\n",
       "      <td>334523</td>\n",
       "      <td>How do I decide whether a quantity will be con...</td>\n",
       "      <td>Y axis and x axis must have different graduati...</td>\n",
       "      <td>0</td>\n",
       "    </tr>\n",
       "    <tr>\n",
       "      <th>336879</th>\n",
       "      <td>336879</td>\n",
       "      <td>464285</td>\n",
       "      <td>464286</td>\n",
       "      <td>Which colors match pink?</td>\n",
       "      <td>What are the best colors to contrast pink?</td>\n",
       "      <td>0</td>\n",
       "    </tr>\n",
       "    <tr>\n",
       "      <th>17197</th>\n",
       "      <td>17197</td>\n",
       "      <td>32713</td>\n",
       "      <td>32714</td>\n",
       "      <td>What is difference between conducting and non-...</td>\n",
       "      <td>Why does a base conduct electricity?</td>\n",
       "      <td>0</td>\n",
       "    </tr>\n",
       "    <tr>\n",
       "      <th>258363</th>\n",
       "      <td>258363</td>\n",
       "      <td>373909</td>\n",
       "      <td>373910</td>\n",
       "      <td>What are some great places to go mushroom hunt...</td>\n",
       "      <td>Are mushrooms vegetables?</td>\n",
       "      <td>0</td>\n",
       "    </tr>\n",
       "  </tbody>\n",
       "</table>\n",
       "</div>"
      ],
      "text/plain": [
       "            id    qid1    qid2  \\\n",
       "317534  317534   64271   67694   \n",
       "226014  226014  334522  334523   \n",
       "336879  336879  464285  464286   \n",
       "17197    17197   32713   32714   \n",
       "258363  258363  373909  373910   \n",
       "\n",
       "                                                question1  \\\n",
       "317534           Which is the best laptop under Rs 25000?   \n",
       "226014  How do I decide whether a quantity will be con...   \n",
       "336879                           Which colors match pink?   \n",
       "17197   What is difference between conducting and non-...   \n",
       "258363  What are some great places to go mushroom hunt...   \n",
       "\n",
       "                                                question2  is_duplicate  \n",
       "317534  Which are the best laptops under INR 25000 in ...             1  \n",
       "226014  Y axis and x axis must have different graduati...             0  \n",
       "336879         What are the best colors to contrast pink?             0  \n",
       "17197                Why does a base conduct electricity?             0  \n",
       "258363                          Are mushrooms vegetables?             0  "
      ]
     },
     "execution_count": 6,
     "metadata": {},
     "output_type": "execute_result"
    }
   ],
   "source": [
    "df.sample(5)"
   ]
  },
  {
   "cell_type": "code",
   "execution_count": 7,
   "id": "f99fe20e",
   "metadata": {
    "execution": {
     "iopub.execute_input": "2024-08-17T18:21:31.996142Z",
     "iopub.status.busy": "2024-08-17T18:21:31.995661Z",
     "iopub.status.idle": "2024-08-17T18:21:32.004507Z",
     "shell.execute_reply": "2024-08-17T18:21:32.002838Z"
    },
    "papermill": {
     "duration": 0.026953,
     "end_time": "2024-08-17T18:21:32.007323",
     "exception": false,
     "start_time": "2024-08-17T18:21:31.980370",
     "status": "completed"
    },
    "tags": []
   },
   "outputs": [
    {
     "data": {
      "text/plain": [
       "(404287, 6)"
      ]
     },
     "execution_count": 7,
     "metadata": {},
     "output_type": "execute_result"
    }
   ],
   "source": [
    "df.shape"
   ]
  },
  {
   "cell_type": "code",
   "execution_count": 8,
   "id": "ed07b8c4",
   "metadata": {
    "execution": {
     "iopub.execute_input": "2024-08-17T18:21:32.037278Z",
     "iopub.status.busy": "2024-08-17T18:21:32.036789Z",
     "iopub.status.idle": "2024-08-17T18:21:32.174108Z",
     "shell.execute_reply": "2024-08-17T18:21:32.172810Z"
    },
    "papermill": {
     "duration": 0.155746,
     "end_time": "2024-08-17T18:21:32.177083",
     "exception": false,
     "start_time": "2024-08-17T18:21:32.021337",
     "status": "completed"
    },
    "tags": []
   },
   "outputs": [
    {
     "name": "stdout",
     "output_type": "stream",
     "text": [
      "<class 'pandas.core.frame.DataFrame'>\n",
      "Index: 404287 entries, 0 to 404289\n",
      "Data columns (total 6 columns):\n",
      " #   Column        Non-Null Count   Dtype \n",
      "---  ------        --------------   ----- \n",
      " 0   id            404287 non-null  int64 \n",
      " 1   qid1          404287 non-null  int64 \n",
      " 2   qid2          404287 non-null  int64 \n",
      " 3   question1     404287 non-null  object\n",
      " 4   question2     404287 non-null  object\n",
      " 5   is_duplicate  404287 non-null  int64 \n",
      "dtypes: int64(4), object(2)\n",
      "memory usage: 21.6+ MB\n"
     ]
    }
   ],
   "source": [
    "df.info()"
   ]
  },
  {
   "cell_type": "code",
   "execution_count": 9,
   "id": "e7219050",
   "metadata": {
    "execution": {
     "iopub.execute_input": "2024-08-17T18:21:32.206592Z",
     "iopub.status.busy": "2024-08-17T18:21:32.206119Z",
     "iopub.status.idle": "2024-08-17T18:21:32.334669Z",
     "shell.execute_reply": "2024-08-17T18:21:32.333219Z"
    },
    "papermill": {
     "duration": 0.146889,
     "end_time": "2024-08-17T18:21:32.337648",
     "exception": false,
     "start_time": "2024-08-17T18:21:32.190759",
     "status": "completed"
    },
    "tags": []
   },
   "outputs": [
    {
     "data": {
      "text/plain": [
       "id              0\n",
       "qid1            0\n",
       "qid2            0\n",
       "question1       0\n",
       "question2       0\n",
       "is_duplicate    0\n",
       "dtype: int64"
      ]
     },
     "execution_count": 9,
     "metadata": {},
     "output_type": "execute_result"
    }
   ],
   "source": [
    "df.isnull().sum()"
   ]
  },
  {
   "cell_type": "code",
   "execution_count": 10,
   "id": "19209486",
   "metadata": {
    "execution": {
     "iopub.execute_input": "2024-08-17T18:21:32.368312Z",
     "iopub.status.busy": "2024-08-17T18:21:32.367863Z",
     "iopub.status.idle": "2024-08-17T18:21:32.918122Z",
     "shell.execute_reply": "2024-08-17T18:21:32.916766Z"
    },
    "papermill": {
     "duration": 0.569181,
     "end_time": "2024-08-17T18:21:32.920829",
     "exception": false,
     "start_time": "2024-08-17T18:21:32.351648",
     "status": "completed"
    },
    "tags": []
   },
   "outputs": [
    {
     "data": {
      "text/plain": [
       "0"
      ]
     },
     "execution_count": 10,
     "metadata": {},
     "output_type": "execute_result"
    }
   ],
   "source": [
    "df.duplicated().sum()"
   ]
  },
  {
   "cell_type": "code",
   "execution_count": 11,
   "id": "5a51ac5c",
   "metadata": {
    "execution": {
     "iopub.execute_input": "2024-08-17T18:21:32.952134Z",
     "iopub.status.busy": "2024-08-17T18:21:32.950889Z",
     "iopub.status.idle": "2024-08-17T18:21:33.269497Z",
     "shell.execute_reply": "2024-08-17T18:21:33.267986Z"
    },
    "papermill": {
     "duration": 0.337537,
     "end_time": "2024-08-17T18:21:33.272662",
     "exception": false,
     "start_time": "2024-08-17T18:21:32.935125",
     "status": "completed"
    },
    "tags": []
   },
   "outputs": [
    {
     "name": "stdout",
     "output_type": "stream",
     "text": [
      "63.08% of the questions are unique\n"
     ]
    },
    {
     "data": {
      "image/png": "[encoded data removed]",
      "text/plain": [
       "<Figure size 640x480 with 1 Axes>"
      ]
     },
     "metadata": {},
     "output_type": "display_data"
    }
   ],
   "source": [
    "df['is_duplicate'].value_counts().plot(kind = 'bar')\n",
    "print(f\"{df[df['is_duplicate'] == 0].shape[0] / df.shape[0] *100:.2f}% of the questions are unique\")"
   ]
  },
  {
   "cell_type": "code",
   "execution_count": 12,
   "id": "4ecab735",
   "metadata": {
    "execution": {
     "iopub.execute_input": "2024-08-17T18:21:33.304768Z",
     "iopub.status.busy": "2024-08-17T18:21:33.304320Z",
     "iopub.status.idle": "2024-08-17T18:21:33.494034Z",
     "shell.execute_reply": "2024-08-17T18:21:33.492250Z"
    },
    "papermill": {
     "duration": 0.209523,
     "end_time": "2024-08-17T18:21:33.496972",
     "exception": false,
     "start_time": "2024-08-17T18:21:33.287449",
     "status": "completed"
    },
    "tags": []
   },
   "outputs": [
    {
     "name": "stdout",
     "output_type": "stream",
     "text": [
      "Number of unique questions 537929\n",
      "Number of questions that were repeated 111778\n"
     ]
    }
   ],
   "source": [
    "total_question = (pd.concat([df['qid1'], df['qid2']], axis=0).reset_index(drop=True))\n",
    "print(f\"Number of unique questions {total_question.nunique()}\")\n",
    "x = total_question.value_counts() > 1\n",
    "print(f\"Number of questions that were repeated {x[x].shape[0]}\")"
   ]
  },
  {
   "cell_type": "code",
   "execution_count": 13,
   "id": "c013afa3",
   "metadata": {
    "execution": {
     "iopub.execute_input": "2024-08-17T18:21:33.530521Z",
     "iopub.status.busy": "2024-08-17T18:21:33.529958Z",
     "iopub.status.idle": "2024-08-17T18:21:34.843383Z",
     "shell.execute_reply": "2024-08-17T18:21:34.841924Z"
    },
    "papermill": {
     "duration": 1.332737,
     "end_time": "2024-08-17T18:21:34.846154",
     "exception": false,
     "start_time": "2024-08-17T18:21:33.513417",
     "status": "completed"
    },
    "tags": []
   },
   "outputs": [
    {
     "data": {
      "image/png": "[encoded data removed]",
      "text/plain": [
       "<Figure size 640x480 with 1 Axes>"
      ]
     },
     "metadata": {},
     "output_type": "display_data"
    }
   ],
   "source": [
    "plt.hist(total_question.value_counts().values,bins=160)\n",
    "plt.yscale('log')\n",
    "plt.show()"
   ]
  },
  {
   "cell_type": "code",
   "execution_count": 14,
   "id": "0b8ce6b4",
   "metadata": {
    "execution": {
     "iopub.execute_input": "2024-08-17T18:21:34.878329Z",
     "iopub.status.busy": "2024-08-17T18:21:34.877825Z",
     "iopub.status.idle": "2024-08-17T18:21:34.954644Z",
     "shell.execute_reply": "2024-08-17T18:21:34.953311Z"
    },
    "papermill": {
     "duration": 0.096659,
     "end_time": "2024-08-17T18:21:34.957688",
     "exception": false,
     "start_time": "2024-08-17T18:21:34.861029",
     "status": "completed"
    },
    "tags": []
   },
   "outputs": [],
   "source": [
    "df = df.sample(frac = 0.1)"
   ]
  },
  {
   "cell_type": "code",
   "execution_count": 15,
   "id": "2ab28460",
   "metadata": {
    "execution": {
     "iopub.execute_input": "2024-08-17T18:21:34.989802Z",
     "iopub.status.busy": "2024-08-17T18:21:34.989262Z",
     "iopub.status.idle": "2024-08-17T18:21:35.003403Z",
     "shell.execute_reply": "2024-08-17T18:21:35.002081Z"
    },
    "papermill": {
     "duration": 0.034329,
     "end_time": "2024-08-17T18:21:35.006933",
     "exception": false,
     "start_time": "2024-08-17T18:21:34.972604",
     "status": "completed"
    },
    "tags": []
   },
   "outputs": [],
   "source": [
    "stopwords_set = set(stopwords.words('english'))\n",
    "emoji_pattern = re.compile('(?::|;|=)(?:-)?(?:\\)|\\(|D|P)')\n",
    "\n",
    "def preprocessing(text):\n",
    "    # Check if text is a string or bytes-like object\n",
    "    if not isinstance(text, (str, bytes)):\n",
    "        return \"\"  # Return empty string if text is not a string or bytes-like object\n",
    "\n",
    "    global i\n",
    "    # Remove HTML tags\n",
    "    text = re.sub('<[^>]*>', '', text)\n",
    "    \n",
    "    # Find emojis\n",
    "    emojis = emoji_pattern.findall(text)\n",
    "    \n",
    "    # Remove non-word characters, convert to lowercase, and join emojis\n",
    "    text = re.sub('[\\W+]', ' ', text.lower()) + ' '.join(emojis).replace('-', '')\n",
    "\n",
    "    # Stemming and removing stopwords\n",
    "    prter = PorterStemmer()\n",
    "    text = [prter.stem(word) for word in text.split() if word not in stopwords_set]\n",
    "\n",
    "    return \" \".join(text)\n"
   ]
  },
  {
   "cell_type": "code",
   "execution_count": 16,
   "id": "7c5ee579",
   "metadata": {
    "execution": {
     "iopub.execute_input": "2024-08-17T18:21:35.040858Z",
     "iopub.status.busy": "2024-08-17T18:21:35.040324Z",
     "iopub.status.idle": "2024-08-17T18:21:55.522133Z",
     "shell.execute_reply": "2024-08-17T18:21:55.520312Z"
    },
    "papermill": {
     "duration": 20.502237,
     "end_time": "2024-08-17T18:21:55.525304",
     "exception": false,
     "start_time": "2024-08-17T18:21:35.023067",
     "status": "completed"
    },
    "tags": []
   },
   "outputs": [
    {
     "name": "stderr",
     "output_type": "stream",
     "text": [
      "100%|██████████| 40429/40429 [00:10<00:00, 3974.60it/s]\n",
      "100%|██████████| 40429/40429 [00:10<00:00, 3933.86it/s]\n"
     ]
    }
   ],
   "source": [
    "df['question1'] = df['question1'].progress_apply(lambda x: preprocessing(x))\n",
    "df['question2'] = df['question2'].progress_apply(lambda x: preprocessing(x))"
   ]
  },
  {
   "cell_type": "code",
   "execution_count": 17,
   "id": "39f98391",
   "metadata": {
    "execution": {
     "iopub.execute_input": "2024-08-17T18:21:55.597628Z",
     "iopub.status.busy": "2024-08-17T18:21:55.597168Z",
     "iopub.status.idle": "2024-08-17T18:21:55.612797Z",
     "shell.execute_reply": "2024-08-17T18:21:55.611195Z"
    },
    "papermill": {
     "duration": 0.054971,
     "end_time": "2024-08-17T18:21:55.615927",
     "exception": false,
     "start_time": "2024-08-17T18:21:55.560956",
     "status": "completed"
    },
    "tags": []
   },
   "outputs": [
    {
     "data": {
      "text/html": [
       "<div>\n",
       "<style scoped>\n",
       "    .dataframe tbody tr th:only-of-type {\n",
       "        vertical-align: middle;\n",
       "    }\n",
       "\n",
       "    .dataframe tbody tr th {\n",
       "        vertical-align: top;\n",
       "    }\n",
       "\n",
       "    .dataframe thead th {\n",
       "        text-align: right;\n",
       "    }\n",
       "</style>\n",
       "<table border=\"1\" class=\"dataframe\">\n",
       "  <thead>\n",
       "    <tr style=\"text-align: right;\">\n",
       "      <th></th>\n",
       "      <th>id</th>\n",
       "      <th>qid1</th>\n",
       "      <th>qid2</th>\n",
       "      <th>question1</th>\n",
       "      <th>question2</th>\n",
       "      <th>is_duplicate</th>\n",
       "    </tr>\n",
       "  </thead>\n",
       "  <tbody>\n",
       "    <tr>\n",
       "      <th>257592</th>\n",
       "      <td>257592</td>\n",
       "      <td>316192</td>\n",
       "      <td>372945</td>\n",
       "      <td>hardest thing get use come franc</td>\n",
       "      <td>hardest thing get use come singapor</td>\n",
       "      <td>0</td>\n",
       "    </tr>\n",
       "    <tr>\n",
       "      <th>340363</th>\n",
       "      <td>340363</td>\n",
       "      <td>405755</td>\n",
       "      <td>468074</td>\n",
       "      <td>draft mail hr ask interview statu</td>\n",
       "      <td>question ask futur hr career interview</td>\n",
       "      <td>0</td>\n",
       "    </tr>\n",
       "    <tr>\n",
       "      <th>264248</th>\n",
       "      <td>264248</td>\n",
       "      <td>380982</td>\n",
       "      <td>380983</td>\n",
       "      <td>north american univers best ux ui design gradu...</td>\n",
       "      <td>best univers learn ux usa</td>\n",
       "      <td>0</td>\n",
       "    </tr>\n",
       "    <tr>\n",
       "      <th>396265</th>\n",
       "      <td>396265</td>\n",
       "      <td>89165</td>\n",
       "      <td>529314</td>\n",
       "      <td>u marin insist separ branch arm forc u form pa...</td>\n",
       "      <td>worst discrimin receiv veteran u arm forc incl...</td>\n",
       "      <td>0</td>\n",
       "    </tr>\n",
       "    <tr>\n",
       "      <th>259032</th>\n",
       "      <td>259032</td>\n",
       "      <td>74400</td>\n",
       "      <td>213898</td>\n",
       "      <td>hack whatsapp account listen voic messag</td>\n",
       "      <td>hack whatsapp remot</td>\n",
       "      <td>1</td>\n",
       "    </tr>\n",
       "  </tbody>\n",
       "</table>\n",
       "</div>"
      ],
      "text/plain": [
       "            id    qid1    qid2  \\\n",
       "257592  257592  316192  372945   \n",
       "340363  340363  405755  468074   \n",
       "264248  264248  380982  380983   \n",
       "396265  396265   89165  529314   \n",
       "259032  259032   74400  213898   \n",
       "\n",
       "                                                question1  \\\n",
       "257592                   hardest thing get use come franc   \n",
       "340363                  draft mail hr ask interview statu   \n",
       "264248  north american univers best ux ui design gradu...   \n",
       "396265  u marin insist separ branch arm forc u form pa...   \n",
       "259032           hack whatsapp account listen voic messag   \n",
       "\n",
       "                                                question2  is_duplicate  \n",
       "257592                hardest thing get use come singapor             0  \n",
       "340363             question ask futur hr career interview             0  \n",
       "264248                          best univers learn ux usa             0  \n",
       "396265  worst discrimin receiv veteran u arm forc incl...             0  \n",
       "259032                                hack whatsapp remot             1  "
      ]
     },
     "execution_count": 17,
     "metadata": {},
     "output_type": "execute_result"
    }
   ],
   "source": [
    "df.head()"
   ]
  },
  {
   "cell_type": "code",
   "execution_count": 18,
   "id": "6532261c",
   "metadata": {
    "execution": {
     "iopub.execute_input": "2024-08-17T18:21:55.690334Z",
     "iopub.status.busy": "2024-08-17T18:21:55.689276Z",
     "iopub.status.idle": "2024-08-17T18:21:55.695584Z",
     "shell.execute_reply": "2024-08-17T18:21:55.694151Z"
    },
    "papermill": {
     "duration": 0.04631,
     "end_time": "2024-08-17T18:21:55.698335",
     "exception": false,
     "start_time": "2024-08-17T18:21:55.652025",
     "status": "completed"
    },
    "tags": []
   },
   "outputs": [],
   "source": [
    "y = df['is_duplicate']"
   ]
  },
  {
   "cell_type": "code",
   "execution_count": 19,
   "id": "9f546f0e",
   "metadata": {
    "execution": {
     "iopub.execute_input": "2024-08-17T18:21:55.772740Z",
     "iopub.status.busy": "2024-08-17T18:21:55.771568Z",
     "iopub.status.idle": "2024-08-17T18:21:55.779421Z",
     "shell.execute_reply": "2024-08-17T18:21:55.778274Z"
    },
    "papermill": {
     "duration": 0.047789,
     "end_time": "2024-08-17T18:21:55.782272",
     "exception": false,
     "start_time": "2024-08-17T18:21:55.734483",
     "status": "completed"
    },
    "tags": []
   },
   "outputs": [],
   "source": [
    "total_question = pd.concat([df['question1'], df['question2']], axis=0)"
   ]
  },
  {
   "cell_type": "code",
   "execution_count": 20,
   "id": "eed276e9",
   "metadata": {
    "execution": {
     "iopub.execute_input": "2024-08-17T18:21:55.853319Z",
     "iopub.status.busy": "2024-08-17T18:21:55.852864Z",
     "iopub.status.idle": "2024-08-17T18:21:56.867132Z",
     "shell.execute_reply": "2024-08-17T18:21:56.865814Z"
    },
    "papermill": {
     "duration": 1.052917,
     "end_time": "2024-08-17T18:21:56.869895",
     "exception": false,
     "start_time": "2024-08-17T18:21:55.816978",
     "status": "completed"
    },
    "tags": []
   },
   "outputs": [
    {
     "data": {
      "text/html": [
       "<style>#sk-container-id-1 {color: black;background-color: white;}#sk-container-id-1 pre{padding: 0;}#sk-container-id-1 div.sk-toggleable {background-color: white;}#sk-container-id-1 label.sk-toggleable__label {cursor: pointer;display: block;width: 100%;margin-bottom: 0;padding: 0.3em;box-sizing: border-box;text-align: center;}#sk-container-id-1 label.sk-toggleable__label-arrow:before {content: \"▸\";float: left;margin-right: 0.25em;color: #696969;}#sk-container-id-1 label.sk-toggleable__label-arrow:hover:before {color: black;}#sk-container-id-1 div.sk-estimator:hover label.sk-toggleable__label-arrow:before {color: black;}#sk-container-id-1 div.sk-toggleable__content {max-height: 0;max-width: 0;overflow: hidden;text-align: left;background-color: #f0f8ff;}#sk-container-id-1 div.sk-toggleable__content pre {margin: 0.2em;color: black;border-radius: 0.25em;background-color: #f0f8ff;}#sk-container-id-1 input.sk-toggleable__control:checked~div.sk-toggleable__content {max-height: 200px;max-width: 100%;overflow: auto;}#sk-container-id-1 input.sk-toggleable__control:checked~label.sk-toggleable__label-arrow:before {content: \"▾\";}#sk-container-id-1 div.sk-estimator input.sk-toggleable__control:checked~label.sk-toggleable__label {background-color: #d4ebff;}#sk-container-id-1 div.sk-label input.sk-toggleable__control:checked~label.sk-toggleable__label {background-color: #d4ebff;}#sk-container-id-1 input.sk-hidden--visually {border: 0;clip: rect(1px 1px 1px 1px);clip: rect(1px, 1px, 1px, 1px);height: 1px;margin: -1px;overflow: hidden;padding: 0;position: absolute;width: 1px;}#sk-container-id-1 div.sk-estimator {font-family: monospace;background-color: #f0f8ff;border: 1px dotted black;border-radius: 0.25em;box-sizing: border-box;margin-bottom: 0.5em;}#sk-container-id-1 div.sk-estimator:hover {background-color: #d4ebff;}#sk-container-id-1 div.sk-parallel-item::after {content: \"\";width: 100%;border-bottom: 1px solid gray;flex-grow: 1;}#sk-container-id-1 div.sk-label:hover label.sk-toggleable__label {background-color: #d4ebff;}#sk-container-id-1 div.sk-serial::before {content: \"\";position: absolute;border-left: 1px solid gray;box-sizing: border-box;top: 0;bottom: 0;left: 50%;z-index: 0;}#sk-container-id-1 div.sk-serial {display: flex;flex-direction: column;align-items: center;background-color: white;padding-right: 0.2em;padding-left: 0.2em;position: relative;}#sk-container-id-1 div.sk-item {position: relative;z-index: 1;}#sk-container-id-1 div.sk-parallel {display: flex;align-items: stretch;justify-content: center;background-color: white;position: relative;}#sk-container-id-1 div.sk-item::before, #sk-container-id-1 div.sk-parallel-item::before {content: \"\";position: absolute;border-left: 1px solid gray;box-sizing: border-box;top: 0;bottom: 0;left: 50%;z-index: -1;}#sk-container-id-1 div.sk-parallel-item {display: flex;flex-direction: column;z-index: 1;position: relative;background-color: white;}#sk-container-id-1 div.sk-parallel-item:first-child::after {align-self: flex-end;width: 50%;}#sk-container-id-1 div.sk-parallel-item:last-child::after {align-self: flex-start;width: 50%;}#sk-container-id-1 div.sk-parallel-item:only-child::after {width: 0;}#sk-container-id-1 div.sk-dashed-wrapped {border: 1px dashed gray;margin: 0 0.4em 0.5em 0.4em;box-sizing: border-box;padding-bottom: 0.4em;background-color: white;}#sk-container-id-1 div.sk-label label {font-family: monospace;font-weight: bold;display: inline-block;line-height: 1.2em;}#sk-container-id-1 div.sk-label-container {text-align: center;}#sk-container-id-1 div.sk-container {/* jupyter's `normalize.less` sets `[hidden] { display: none; }` but bootstrap.min.css set `[hidden] { display: none !important; }` so we also need the `!important` here to be able to override the default hidden behavior on the sphinx rendered scikit-learn.org. See: https://github.com/scikit-learn/scikit-learn/issues/21755 */display: inline-block !important;position: relative;}#sk-container-id-1 div.sk-text-repr-fallback {display: none;}</style><div id=\"sk-container-id-1\" class=\"sk-top-container\"><div class=\"sk-text-repr-fallback\"><pre>CountVectorizer(max_features=5000)</pre><b>In a Jupyter environment, please rerun this cell to show the HTML representation or trust the notebook. <br />On GitHub, the HTML representation is unable to render, please try loading this page with nbviewer.org.</b></div><div class=\"sk-container\" hidden><div class=\"sk-item\"><div class=\"sk-estimator sk-toggleable\"><input class=\"sk-toggleable__control sk-hidden--visually\" id=\"sk-estimator-id-1\" type=\"checkbox\" checked><label for=\"sk-estimator-id-1\" class=\"sk-toggleable__label sk-toggleable__label-arrow\">CountVectorizer</label><div class=\"sk-toggleable__content\"><pre>CountVectorizer(max_features=5000)</pre></div></div></div></div></div>"
      ],
      "text/plain": [
       "CountVectorizer(max_features=5000)"
      ]
     },
     "execution_count": 20,
     "metadata": {},
     "output_type": "execute_result"
    }
   ],
   "source": [
    "cv = CountVectorizer(max_features = 5000)\n",
    "cv.fit(total_question)"
   ]
  },
  {
   "cell_type": "code",
   "execution_count": 21,
   "id": "7d083aef",
   "metadata": {
    "execution": {
     "iopub.execute_input": "2024-08-17T18:21:56.942033Z",
     "iopub.status.busy": "2024-08-17T18:21:56.941526Z",
     "iopub.status.idle": "2024-08-17T18:21:59.232009Z",
     "shell.execute_reply": "2024-08-17T18:21:59.230662Z"
    },
    "papermill": {
     "duration": 2.331117,
     "end_time": "2024-08-17T18:21:59.235266",
     "exception": false,
     "start_time": "2024-08-17T18:21:56.904149",
     "status": "completed"
    },
    "tags": []
   },
   "outputs": [],
   "source": [
    "q1 = cv.transform(df['question1']).toarray()\n",
    "q2 = cv.transform(df['question2']).toarray()"
   ]
  },
  {
   "cell_type": "code",
   "execution_count": 22,
   "id": "ee1ba54e",
   "metadata": {
    "execution": {
     "iopub.execute_input": "2024-08-17T18:21:59.308648Z",
     "iopub.status.busy": "2024-08-17T18:21:59.308196Z",
     "iopub.status.idle": "2024-08-17T18:22:02.434849Z",
     "shell.execute_reply": "2024-08-17T18:22:02.433152Z"
    },
    "papermill": {
     "duration": 3.166874,
     "end_time": "2024-08-17T18:22:02.437850",
     "exception": false,
     "start_time": "2024-08-17T18:21:59.270976",
     "status": "completed"
    },
    "tags": []
   },
   "outputs": [],
   "source": [
    "combined_data = np.hstack((q1, q2))"
   ]
  },
  {
   "cell_type": "code",
   "execution_count": 23,
   "id": "c1b12bd8",
   "metadata": {
    "execution": {
     "iopub.execute_input": "2024-08-17T18:22:02.510292Z",
     "iopub.status.busy": "2024-08-17T18:22:02.509770Z",
     "iopub.status.idle": "2024-08-17T18:22:02.516421Z",
     "shell.execute_reply": "2024-08-17T18:22:02.514958Z"
    },
    "papermill": {
     "duration": 0.04562,
     "end_time": "2024-08-17T18:22:02.519246",
     "exception": false,
     "start_time": "2024-08-17T18:22:02.473626",
     "status": "completed"
    },
    "tags": []
   },
   "outputs": [],
   "source": [
    "df1 = pd.DataFrame(combined_data)"
   ]
  },
  {
   "cell_type": "code",
   "execution_count": 24,
   "id": "2dc7af1c",
   "metadata": {
    "execution": {
     "iopub.execute_input": "2024-08-17T18:22:02.591967Z",
     "iopub.status.busy": "2024-08-17T18:22:02.591393Z",
     "iopub.status.idle": "2024-08-17T18:22:04.726511Z",
     "shell.execute_reply": "2024-08-17T18:22:04.724801Z"
    },
    "papermill": {
     "duration": 2.174541,
     "end_time": "2024-08-17T18:22:04.729570",
     "exception": false,
     "start_time": "2024-08-17T18:22:02.555029",
     "status": "completed"
    },
    "tags": []
   },
   "outputs": [],
   "source": [
    "x_train, x_test, y_train, y_test = train_test_split(df1,y, test_size = 0.2, random_state = 42)"
   ]
  },
  {
   "cell_type": "code",
   "execution_count": 25,
   "id": "aedbca80",
   "metadata": {
    "execution": {
     "iopub.execute_input": "2024-08-17T18:22:04.802540Z",
     "iopub.status.busy": "2024-08-17T18:22:04.802041Z",
     "iopub.status.idle": "2024-08-17T18:23:53.281347Z",
     "shell.execute_reply": "2024-08-17T18:23:53.279656Z"
    },
    "papermill": {
     "duration": 108.552246,
     "end_time": "2024-08-17T18:23:53.317755",
     "exception": false,
     "start_time": "2024-08-17T18:22:04.765509",
     "status": "completed"
    },
    "tags": []
   },
   "outputs": [
    {
     "name": "stdout",
     "output_type": "stream",
     "text": [
      "0.7149394014345782\n"
     ]
    }
   ],
   "source": [
    "rf = RandomForestClassifier(n_estimators = 10)\n",
    "\n",
    "rf.fit(x_train, y_train)\n",
    "\n",
    "print(accuracy_score(rf.predict(x_test), y_test))"
   ]
  },
  {
   "cell_type": "code",
   "execution_count": 26,
   "id": "44ed7677",
   "metadata": {
    "execution": {
     "iopub.execute_input": "2024-08-17T18:23:53.459922Z",
     "iopub.status.busy": "2024-08-17T18:23:53.459397Z",
     "iopub.status.idle": "2024-08-17T18:24:56.060601Z",
     "shell.execute_reply": "2024-08-17T18:24:56.059030Z"
    },
    "papermill": {
     "duration": 62.735042,
     "end_time": "2024-08-17T18:24:56.087099",
     "exception": false,
     "start_time": "2024-08-17T18:23:53.352057",
     "status": "completed"
    },
    "tags": []
   },
   "outputs": [
    {
     "name": "stdout",
     "output_type": "stream",
     "text": [
      "0.7186495176848875\n"
     ]
    }
   ],
   "source": [
    "xg = XGBClassifier()\n",
    "\n",
    "xg.fit(x_train, y_train)\n",
    "\n",
    "print(accuracy_score(xg.predict(x_test), y_test))"
   ]
  },
  {
   "cell_type": "code",
   "execution_count": 27,
   "id": "76c60292",
   "metadata": {
    "execution": {
     "iopub.execute_input": "2024-08-17T18:24:56.162851Z",
     "iopub.status.busy": "2024-08-17T18:24:56.162355Z",
     "iopub.status.idle": "2024-08-17T18:24:56.178122Z",
     "shell.execute_reply": "2024-08-17T18:24:56.176625Z"
    },
    "papermill": {
     "duration": 0.057928,
     "end_time": "2024-08-17T18:24:56.181097",
     "exception": false,
     "start_time": "2024-08-17T18:24:56.123169",
     "status": "completed"
    },
    "tags": []
   },
   "outputs": [
    {
     "data": {
      "text/html": [
       "<div>\n",
       "<style scoped>\n",
       "    .dataframe tbody tr th:only-of-type {\n",
       "        vertical-align: middle;\n",
       "    }\n",
       "\n",
       "    .dataframe tbody tr th {\n",
       "        vertical-align: top;\n",
       "    }\n",
       "\n",
       "    .dataframe thead th {\n",
       "        text-align: right;\n",
       "    }\n",
       "</style>\n",
       "<table border=\"1\" class=\"dataframe\">\n",
       "  <thead>\n",
       "    <tr style=\"text-align: right;\">\n",
       "      <th></th>\n",
       "      <th>id</th>\n",
       "      <th>qid1</th>\n",
       "      <th>qid2</th>\n",
       "      <th>question1</th>\n",
       "      <th>question2</th>\n",
       "      <th>is_duplicate</th>\n",
       "    </tr>\n",
       "  </thead>\n",
       "  <tbody>\n",
       "    <tr>\n",
       "      <th>257592</th>\n",
       "      <td>257592</td>\n",
       "      <td>316192</td>\n",
       "      <td>372945</td>\n",
       "      <td>hardest thing get use come franc</td>\n",
       "      <td>hardest thing get use come singapor</td>\n",
       "      <td>0</td>\n",
       "    </tr>\n",
       "    <tr>\n",
       "      <th>340363</th>\n",
       "      <td>340363</td>\n",
       "      <td>405755</td>\n",
       "      <td>468074</td>\n",
       "      <td>draft mail hr ask interview statu</td>\n",
       "      <td>question ask futur hr career interview</td>\n",
       "      <td>0</td>\n",
       "    </tr>\n",
       "    <tr>\n",
       "      <th>264248</th>\n",
       "      <td>264248</td>\n",
       "      <td>380982</td>\n",
       "      <td>380983</td>\n",
       "      <td>north american univers best ux ui design gradu...</td>\n",
       "      <td>best univers learn ux usa</td>\n",
       "      <td>0</td>\n",
       "    </tr>\n",
       "    <tr>\n",
       "      <th>396265</th>\n",
       "      <td>396265</td>\n",
       "      <td>89165</td>\n",
       "      <td>529314</td>\n",
       "      <td>u marin insist separ branch arm forc u form pa...</td>\n",
       "      <td>worst discrimin receiv veteran u arm forc incl...</td>\n",
       "      <td>0</td>\n",
       "    </tr>\n",
       "    <tr>\n",
       "      <th>259032</th>\n",
       "      <td>259032</td>\n",
       "      <td>74400</td>\n",
       "      <td>213898</td>\n",
       "      <td>hack whatsapp account listen voic messag</td>\n",
       "      <td>hack whatsapp remot</td>\n",
       "      <td>1</td>\n",
       "    </tr>\n",
       "  </tbody>\n",
       "</table>\n",
       "</div>"
      ],
      "text/plain": [
       "            id    qid1    qid2  \\\n",
       "257592  257592  316192  372945   \n",
       "340363  340363  405755  468074   \n",
       "264248  264248  380982  380983   \n",
       "396265  396265   89165  529314   \n",
       "259032  259032   74400  213898   \n",
       "\n",
       "                                                question1  \\\n",
       "257592                   hardest thing get use come franc   \n",
       "340363                  draft mail hr ask interview statu   \n",
       "264248  north american univers best ux ui design gradu...   \n",
       "396265  u marin insist separ branch arm forc u form pa...   \n",
       "259032           hack whatsapp account listen voic messag   \n",
       "\n",
       "                                                question2  is_duplicate  \n",
       "257592                hardest thing get use come singapor             0  \n",
       "340363             question ask futur hr career interview             0  \n",
       "264248                          best univers learn ux usa             0  \n",
       "396265  worst discrimin receiv veteran u arm forc incl...             0  \n",
       "259032                                hack whatsapp remot             1  "
      ]
     },
     "execution_count": 27,
     "metadata": {},
     "output_type": "execute_result"
    }
   ],
   "source": [
    "df.head()"
   ]
  },
  {
   "cell_type": "code",
   "execution_count": 28,
   "id": "4901eb2b",
   "metadata": {
    "execution": {
     "iopub.execute_input": "2024-08-17T18:24:56.257271Z",
     "iopub.status.busy": "2024-08-17T18:24:56.256867Z",
     "iopub.status.idle": "2024-08-17T18:24:56.329981Z",
     "shell.execute_reply": "2024-08-17T18:24:56.328624Z"
    },
    "papermill": {
     "duration": 0.115964,
     "end_time": "2024-08-17T18:24:56.332871",
     "exception": false,
     "start_time": "2024-08-17T18:24:56.216907",
     "status": "completed"
    },
    "tags": []
   },
   "outputs": [],
   "source": [
    "df['q1_len'] = df['question1'].str.len()\n",
    "df['q2_len'] = df['question2'].str.len()"
   ]
  },
  {
   "cell_type": "code",
   "execution_count": 29,
   "id": "11c84bd4",
   "metadata": {
    "execution": {
     "iopub.execute_input": "2024-08-17T18:24:56.405905Z",
     "iopub.status.busy": "2024-08-17T18:24:56.405361Z",
     "iopub.status.idle": "2024-08-17T18:24:56.411572Z",
     "shell.execute_reply": "2024-08-17T18:24:56.410258Z"
    },
    "papermill": {
     "duration": 0.046639,
     "end_time": "2024-08-17T18:24:56.414293",
     "exception": false,
     "start_time": "2024-08-17T18:24:56.367654",
     "status": "completed"
    },
    "tags": []
   },
   "outputs": [],
   "source": [
    "def number_of_words(text):\n",
    "    return len(text.split(\" \"))\n",
    "    "
   ]
  },
  {
   "cell_type": "code",
   "execution_count": 30,
   "id": "6b90daae",
   "metadata": {
    "execution": {
     "iopub.execute_input": "2024-08-17T18:24:56.487680Z",
     "iopub.status.busy": "2024-08-17T18:24:56.487175Z",
     "iopub.status.idle": "2024-08-17T18:24:56.774923Z",
     "shell.execute_reply": "2024-08-17T18:24:56.773485Z"
    },
    "papermill": {
     "duration": 0.328447,
     "end_time": "2024-08-17T18:24:56.777967",
     "exception": false,
     "start_time": "2024-08-17T18:24:56.449520",
     "status": "completed"
    },
    "tags": []
   },
   "outputs": [
    {
     "name": "stderr",
     "output_type": "stream",
     "text": [
      "100%|██████████| 40429/40429 [00:00<00:00, 299539.16it/s]\n",
      "100%|██████████| 40429/40429 [00:00<00:00, 303565.74it/s]\n"
     ]
    }
   ],
   "source": [
    "df['q1_words'] = df['question1'].progress_apply(lambda x: number_of_words(x))\n",
    "df['q2_words'] = df['question2'].progress_apply(lambda x: number_of_words(x))"
   ]
  },
  {
   "cell_type": "code",
   "execution_count": 31,
   "id": "b5632161",
   "metadata": {
    "execution": {
     "iopub.execute_input": "2024-08-17T18:24:56.854681Z",
     "iopub.status.busy": "2024-08-17T18:24:56.854189Z",
     "iopub.status.idle": "2024-08-17T18:24:56.861256Z",
     "shell.execute_reply": "2024-08-17T18:24:56.860068Z"
    },
    "papermill": {
     "duration": 0.049353,
     "end_time": "2024-08-17T18:24:56.864265",
     "exception": false,
     "start_time": "2024-08-17T18:24:56.814912",
     "status": "completed"
    },
    "tags": []
   },
   "outputs": [],
   "source": [
    "def number_of_common_words(row):\n",
    "    x = set(row[\"question1\"].split()) & set(row[\"question2\"].split())\n",
    "    return len(x)"
   ]
  },
  {
   "cell_type": "code",
   "execution_count": 32,
   "id": "93a4f87b",
   "metadata": {
    "execution": {
     "iopub.execute_input": "2024-08-17T18:24:56.938908Z",
     "iopub.status.busy": "2024-08-17T18:24:56.938470Z",
     "iopub.status.idle": "2024-08-17T18:24:57.951237Z",
     "shell.execute_reply": "2024-08-17T18:24:57.949644Z"
    },
    "papermill": {
     "duration": 1.054255,
     "end_time": "2024-08-17T18:24:57.954532",
     "exception": false,
     "start_time": "2024-08-17T18:24:56.900277",
     "status": "completed"
    },
    "tags": []
   },
   "outputs": [
    {
     "name": "stderr",
     "output_type": "stream",
     "text": [
      "100%|██████████| 40429/40429 [00:00<00:00, 40429.17it/s]\n"
     ]
    }
   ],
   "source": [
    "df['common_words_count'] = df.progress_apply(number_of_common_words, axis=1)"
   ]
  },
  {
   "cell_type": "code",
   "execution_count": 33,
   "id": "c7fcf4c4",
   "metadata": {
    "execution": {
     "iopub.execute_input": "2024-08-17T18:24:58.034538Z",
     "iopub.status.busy": "2024-08-17T18:24:58.034085Z",
     "iopub.status.idle": "2024-08-17T18:24:58.040404Z",
     "shell.execute_reply": "2024-08-17T18:24:58.039115Z"
    },
    "papermill": {
     "duration": 0.050149,
     "end_time": "2024-08-17T18:24:58.043294",
     "exception": false,
     "start_time": "2024-08-17T18:24:57.993145",
     "status": "completed"
    },
    "tags": []
   },
   "outputs": [],
   "source": [
    "def number_of_total_words(row):\n",
    "    x = set(row[\"question1\"].split()) | set(row[\"question2\"].split())\n",
    "    return len(x)"
   ]
  },
  {
   "cell_type": "code",
   "execution_count": 34,
   "id": "3d899566",
   "metadata": {
    "execution": {
     "iopub.execute_input": "2024-08-17T18:24:58.119862Z",
     "iopub.status.busy": "2024-08-17T18:24:58.119435Z",
     "iopub.status.idle": "2024-08-17T18:24:59.138803Z",
     "shell.execute_reply": "2024-08-17T18:24:59.137431Z"
    },
    "papermill": {
     "duration": 1.061595,
     "end_time": "2024-08-17T18:24:59.142021",
     "exception": false,
     "start_time": "2024-08-17T18:24:58.080426",
     "status": "completed"
    },
    "tags": []
   },
   "outputs": [
    {
     "name": "stderr",
     "output_type": "stream",
     "text": [
      "100%|██████████| 40429/40429 [00:01<00:00, 40117.54it/s]\n"
     ]
    }
   ],
   "source": [
    "df['total_words'] = df.progress_apply(number_of_total_words, axis=1)"
   ]
  },
  {
   "cell_type": "code",
   "execution_count": 35,
   "id": "e6acdadd",
   "metadata": {
    "execution": {
     "iopub.execute_input": "2024-08-17T18:24:59.230342Z",
     "iopub.status.busy": "2024-08-17T18:24:59.229873Z",
     "iopub.status.idle": "2024-08-17T18:24:59.238203Z",
     "shell.execute_reply": "2024-08-17T18:24:59.236954Z"
    },
    "papermill": {
     "duration": 0.053252,
     "end_time": "2024-08-17T18:24:59.241173",
     "exception": false,
     "start_time": "2024-08-17T18:24:59.187921",
     "status": "completed"
    },
    "tags": []
   },
   "outputs": [],
   "source": [
    "df['share_word'] = round(df['common_words_count'] / (df['total_words'] + 0.0001), 2)"
   ]
  },
  {
   "cell_type": "code",
   "execution_count": 36,
   "id": "3164368c",
   "metadata": {
    "execution": {
     "iopub.execute_input": "2024-08-17T18:24:59.324704Z",
     "iopub.status.busy": "2024-08-17T18:24:59.324275Z",
     "iopub.status.idle": "2024-08-17T18:24:59.380539Z",
     "shell.execute_reply": "2024-08-17T18:24:59.378902Z"
    },
    "papermill": {
     "duration": 0.100747,
     "end_time": "2024-08-17T18:24:59.384025",
     "exception": false,
     "start_time": "2024-08-17T18:24:59.283278",
     "status": "completed"
    },
    "tags": []
   },
   "outputs": [],
   "source": [
    "df1['q1_len'] = np.array(df['q1_len'])\n",
    "df1['q2_len'] = np.array(df['q2_len'])\n",
    "df1['q1_words'] = np.array(df['q1_words'])\n",
    "df1['q2_words'] = np.array(df['q2_words'])\n",
    "df1['common_words_count'] = np.array(df['common_words_count'])\n",
    "df1['total_words'] = np.array(df['total_words'])\n",
    "df1['share_word'] = np.array(df['share_word'])"
   ]
  },
  {
   "cell_type": "code",
   "execution_count": 37,
   "id": "ca15c619",
   "metadata": {
    "execution": {
     "iopub.execute_input": "2024-08-17T18:24:59.485412Z",
     "iopub.status.busy": "2024-08-17T18:24:59.484998Z",
     "iopub.status.idle": "2024-08-17T18:24:59.496107Z",
     "shell.execute_reply": "2024-08-17T18:24:59.494647Z"
    },
    "papermill": {
     "duration": 0.059619,
     "end_time": "2024-08-17T18:24:59.498767",
     "exception": false,
     "start_time": "2024-08-17T18:24:59.439148",
     "status": "completed"
    },
    "tags": []
   },
   "outputs": [],
   "source": [
    "df1.columns = df1.columns.astype(str)"
   ]
  },
  {
   "cell_type": "code",
   "execution_count": 38,
   "id": "a1570cb0",
   "metadata": {
    "execution": {
     "iopub.execute_input": "2024-08-17T18:24:59.581572Z",
     "iopub.status.busy": "2024-08-17T18:24:59.580098Z",
     "iopub.status.idle": "2024-08-17T18:25:01.423288Z",
     "shell.execute_reply": "2024-08-17T18:25:01.421864Z"
    },
    "papermill": {
     "duration": 1.887409,
     "end_time": "2024-08-17T18:25:01.426417",
     "exception": false,
     "start_time": "2024-08-17T18:24:59.539008",
     "status": "completed"
    },
    "tags": []
   },
   "outputs": [],
   "source": [
    "x_train, x_test, y_train, y_test = train_test_split(df1, y, test_size = 0.2, random_state = 42)"
   ]
  },
  {
   "cell_type": "code",
   "execution_count": 39,
   "id": "cf66790c",
   "metadata": {
    "execution": {
     "iopub.execute_input": "2024-08-17T18:25:01.508826Z",
     "iopub.status.busy": "2024-08-17T18:25:01.508283Z",
     "iopub.status.idle": "2024-08-17T18:25:34.366904Z",
     "shell.execute_reply": "2024-08-17T18:25:34.364650Z"
    },
    "papermill": {
     "duration": 32.948065,
     "end_time": "2024-08-17T18:25:34.413466",
     "exception": false,
     "start_time": "2024-08-17T18:25:01.465401",
     "status": "completed"
    },
    "tags": []
   },
   "outputs": [
    {
     "name": "stdout",
     "output_type": "stream",
     "text": [
      "0.756740044521395\n"
     ]
    }
   ],
   "source": [
    "rf = RandomForestClassifier(n_estimators = 10)\n",
    "\n",
    "rf.fit(x_train, y_train)\n",
    "\n",
    "print(accuracy_score(rf.predict(x_test), y_test))"
   ]
  },
  {
   "cell_type": "code",
   "execution_count": 40,
   "id": "0e60ffd5",
   "metadata": {
    "execution": {
     "iopub.execute_input": "2024-08-17T18:25:34.497605Z",
     "iopub.status.busy": "2024-08-17T18:25:34.497169Z",
     "iopub.status.idle": "2024-08-17T18:27:00.672843Z",
     "shell.execute_reply": "2024-08-17T18:27:00.671059Z"
    },
    "papermill": {
     "duration": 86.255346,
     "end_time": "2024-08-17T18:27:00.708027",
     "exception": false,
     "start_time": "2024-08-17T18:25:34.452681",
     "status": "completed"
    },
    "tags": []
   },
   "outputs": [
    {
     "name": "stdout",
     "output_type": "stream",
     "text": [
      "0.7626762305218897\n"
     ]
    }
   ],
   "source": [
    "xg = XGBClassifier()\n",
    "\n",
    "xg.fit(x_train, y_train)\n",
    "\n",
    "print(accuracy_score(xg.predict(x_test), y_test))"
   ]
  },
  {
   "cell_type": "code",
   "execution_count": null,
   "id": "147ab9b8",
   "metadata": {
    "papermill": {
     "duration": 0.039794,
     "end_time": "2024-08-17T18:27:00.788440",
     "exception": false,
     "start_time": "2024-08-17T18:27:00.748646",
     "status": "completed"
    },
    "tags": []
   },
   "outputs": [],
   "source": []
  }
 ],
 "metadata": {
  "kaggle": {
   "accelerator": "none",
   "dataSources": [
    {
     "databundleVersionId": 323734,
     "sourceId": 6277,
     "sourceType": "competition"
    }
   ],
   "dockerImageVersionId": 30746,
   "isGpuEnabled": false,
   "isInternetEnabled": true,
   "language": "python",
   "sourceType": "notebook"
  },
  "kernelspec": {
   "display_name": "Python 3",
   "language": "python",
   "name": "python3"
  },
  "language_info": {
   "codemirror_mode": {
    "name": "ipython",
    "version": 3
   },
   "file_extension": ".py",
   "mimetype": "text/x-python",
   "name": "python",
   "nbconvert_exporter": "python",
   "pygments_lexer": "ipython3",
   "version": "3.10.13"
  },
  "papermill": {
   "default_parameters": {},
   "duration": 340.789399,
   "end_time": "2024-08-17T18:27:01.955652",
   "environment_variables": {},
   "exception": null,
   "input_path": "__notebook__.ipynb",
   "output_path": "__notebook__.ipynb",
   "parameters": {},
   "start_time": "2024-08-17T18:21:21.166253",
   "version": "2.5.0"
  }
 },
 "nbformat": 4,
 "nbformat_minor": 5
}
